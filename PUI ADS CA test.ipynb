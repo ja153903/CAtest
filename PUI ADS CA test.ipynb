{
 "cells": [
  {
   "cell_type": "markdown",
   "metadata": {
    "ExecuteTime": {
     "end_time": "2018-07-30T15:14:48.598799Z",
     "start_time": "2018-07-30T11:14:48.591423-04:00"
    }
   },
   "source": [
    "Instructions: each piece of instruction is contained in a cell below. \n",
    "\n",
    "**PREFERRED DELIVERY METHOD**\n",
    "Fork this github repository on your own github, make that repository private and make fedhere a collaborator. Upload your solution to this repository. \n",
    "\n",
    "**OTHERWISE**\n",
    "If you are not familiar with github and you cannot figure out how to follow the instructions above you can email the solution.\n",
    "\n",
    "Fill in each cell below each piece of instruction. This is not a close-book test: feel free to use any resources (google, stackoverflow, books) that you want! \n",
    "\n",
    "If you cannot complete a task feel free to ask for the solution for that portion of the exercise. There are multiple aspects we will evaluate you on and it is expected that you will be  stronger on some tasks than on others. We will use this information to best fit you in our CA assignments. For example, if you cannot read in the data as we are asking, you can as for a clean dataset so that you can show you can do the modeling part. If you are in this situation send us an email. \n",
    "\n",
    "Try to write clean, readable code. This will also be a parameter of evaluation."
   ]
  },
  {
   "cell_type": "markdown",
   "metadata": {
    "run_control": {
     "frozen": false,
     "read_only": false
    }
   },
   "source": [
    "import relevant packages"
   ]
  },
  {
   "cell_type": "code",
   "execution_count": 138,
   "metadata": {
    "ExecuteTime": {
     "end_time": "2018-07-30T14:46:46.677266Z",
     "start_time": "2018-07-30T10:46:46.653829-04:00"
    },
    "run_control": {
     "frozen": false,
     "read_only": false
    }
   },
   "outputs": [],
   "source": [
    "import pandas as pd\n",
    "import numpy as np\n",
    "import itertools\n",
    "import matplotlib.pyplot as plt\n",
    "from sklearn.model_selection import train_test_split\n",
    "from sklearn.linear_model import LogisticRegression, LinearRegression\n",
    "from sklearn.metrics import confusion_matrix, precision_score, recall_score"
   ]
  },
  {
   "cell_type": "markdown",
   "metadata": {},
   "source": [
    "** Data acquisition and cleaning **"
   ]
  },
  {
   "cell_type": "code",
   "execution_count": 47,
   "metadata": {},
   "outputs": [],
   "source": [
    "datain = pd.read_csv('logreg.csv', \n",
    "                     names=['x1', 'x2', 'color', 'y'])\n",
    "\n",
    "datain['y'] = np.where(datain['color'] == 'green', 0.0, 1.0)\n",
    "\n",
    "# Currently x2 column is of the data type string so we should transform it.\n",
    "datain['x2'] = pd.to_numeric(datain['x2'], errors='coerce')\n",
    "\n",
    "# Now we can drop the NaN row\n",
    "datain.dropna(inplace=True)"
   ]
  },
  {
   "cell_type": "markdown",
   "metadata": {
    "run_control": {
     "frozen": false,
     "read_only": false
    }
   },
   "source": [
    "Read in the data file called logreg2. Call the columns x1, x2, color, and y (y should be the numerical conversion of color). Convert each column to a floating point variable mapping the last column to 0s and 1s according to the value. Drop poorly inputed data. At the end of the process the data should look like this:"
   ]
  },
  {
   "cell_type": "code",
   "execution_count": 48,
   "metadata": {
    "ExecuteTime": {
     "end_time": "2018-07-30T14:52:50.428800Z",
     "start_time": "2018-07-30T10:52:50.393621-04:00"
    },
    "run_control": {
     "frozen": false,
     "read_only": false
    }
   },
   "outputs": [
    {
     "data": {
      "text/html": [
       "<div>\n",
       "<style scoped>\n",
       "    .dataframe tbody tr th:only-of-type {\n",
       "        vertical-align: middle;\n",
       "    }\n",
       "\n",
       "    .dataframe tbody tr th {\n",
       "        vertical-align: top;\n",
       "    }\n",
       "\n",
       "    .dataframe thead th {\n",
       "        text-align: right;\n",
       "    }\n",
       "</style>\n",
       "<table border=\"1\" class=\"dataframe\">\n",
       "  <thead>\n",
       "    <tr style=\"text-align: right;\">\n",
       "      <th></th>\n",
       "      <th>x1</th>\n",
       "      <th>x2</th>\n",
       "      <th>color</th>\n",
       "      <th>y</th>\n",
       "    </tr>\n",
       "  </thead>\n",
       "  <tbody>\n",
       "    <tr>\n",
       "      <th>0</th>\n",
       "      <td>1.103418</td>\n",
       "      <td>5.160703</td>\n",
       "      <td>green</td>\n",
       "      <td>0.0</td>\n",
       "    </tr>\n",
       "    <tr>\n",
       "      <th>1</th>\n",
       "      <td>0.754804</td>\n",
       "      <td>5.846008</td>\n",
       "      <td>green</td>\n",
       "      <td>0.0</td>\n",
       "    </tr>\n",
       "    <tr>\n",
       "      <th>2</th>\n",
       "      <td>-1.651331</td>\n",
       "      <td>7.416112</td>\n",
       "      <td>green</td>\n",
       "      <td>0.0</td>\n",
       "    </tr>\n",
       "    <tr>\n",
       "      <th>3</th>\n",
       "      <td>-2.502233</td>\n",
       "      <td>7.799007</td>\n",
       "      <td>green</td>\n",
       "      <td>0.0</td>\n",
       "    </tr>\n",
       "    <tr>\n",
       "      <th>4</th>\n",
       "      <td>-0.183246</td>\n",
       "      <td>9.076321</td>\n",
       "      <td>green</td>\n",
       "      <td>0.0</td>\n",
       "    </tr>\n",
       "  </tbody>\n",
       "</table>\n",
       "</div>"
      ],
      "text/plain": [
       "         x1        x2  color    y\n",
       "0  1.103418  5.160703  green  0.0\n",
       "1  0.754804  5.846008  green  0.0\n",
       "2 -1.651331  7.416112  green  0.0\n",
       "3 -2.502233  7.799007  green  0.0\n",
       "4 -0.183246  9.076321  green  0.0"
      ]
     },
     "execution_count": 48,
     "metadata": {},
     "output_type": "execute_result"
    }
   ],
   "source": [
    "datain.head()"
   ]
  },
  {
   "cell_type": "code",
   "execution_count": 49,
   "metadata": {
    "ExecuteTime": {
     "end_time": "2018-07-30T14:52:52.371639Z",
     "start_time": "2018-07-30T10:52:52.339764-04:00"
    },
    "run_control": {
     "frozen": false,
     "read_only": false
    }
   },
   "outputs": [
    {
     "data": {
      "text/html": [
       "<div>\n",
       "<style scoped>\n",
       "    .dataframe tbody tr th:only-of-type {\n",
       "        vertical-align: middle;\n",
       "    }\n",
       "\n",
       "    .dataframe tbody tr th {\n",
       "        vertical-align: top;\n",
       "    }\n",
       "\n",
       "    .dataframe thead th {\n",
       "        text-align: right;\n",
       "    }\n",
       "</style>\n",
       "<table border=\"1\" class=\"dataframe\">\n",
       "  <thead>\n",
       "    <tr style=\"text-align: right;\">\n",
       "      <th></th>\n",
       "      <th>x1</th>\n",
       "      <th>x2</th>\n",
       "      <th>y</th>\n",
       "    </tr>\n",
       "  </thead>\n",
       "  <tbody>\n",
       "    <tr>\n",
       "      <th>count</th>\n",
       "      <td>196.000000</td>\n",
       "      <td>196.000000</td>\n",
       "      <td>196.000000</td>\n",
       "    </tr>\n",
       "    <tr>\n",
       "      <th>mean</th>\n",
       "      <td>3.221567</td>\n",
       "      <td>4.282077</td>\n",
       "      <td>0.448980</td>\n",
       "    </tr>\n",
       "    <tr>\n",
       "      <th>std</th>\n",
       "      <td>3.519541</td>\n",
       "      <td>3.409446</td>\n",
       "      <td>0.498664</td>\n",
       "    </tr>\n",
       "    <tr>\n",
       "      <th>min</th>\n",
       "      <td>-4.841950</td>\n",
       "      <td>-3.133742</td>\n",
       "      <td>0.000000</td>\n",
       "    </tr>\n",
       "    <tr>\n",
       "      <th>25%</th>\n",
       "      <td>0.617336</td>\n",
       "      <td>1.696219</td>\n",
       "      <td>0.000000</td>\n",
       "    </tr>\n",
       "    <tr>\n",
       "      <th>50%</th>\n",
       "      <td>3.071503</td>\n",
       "      <td>4.270623</td>\n",
       "      <td>0.000000</td>\n",
       "    </tr>\n",
       "    <tr>\n",
       "      <th>75%</th>\n",
       "      <td>5.738187</td>\n",
       "      <td>7.095339</td>\n",
       "      <td>1.000000</td>\n",
       "    </tr>\n",
       "    <tr>\n",
       "      <th>max</th>\n",
       "      <td>13.162562</td>\n",
       "      <td>12.174896</td>\n",
       "      <td>1.000000</td>\n",
       "    </tr>\n",
       "  </tbody>\n",
       "</table>\n",
       "</div>"
      ],
      "text/plain": [
       "               x1          x2           y\n",
       "count  196.000000  196.000000  196.000000\n",
       "mean     3.221567    4.282077    0.448980\n",
       "std      3.519541    3.409446    0.498664\n",
       "min     -4.841950   -3.133742    0.000000\n",
       "25%      0.617336    1.696219    0.000000\n",
       "50%      3.071503    4.270623    0.000000\n",
       "75%      5.738187    7.095339    1.000000\n",
       "max     13.162562   12.174896    1.000000"
      ]
     },
     "execution_count": 49,
     "metadata": {},
     "output_type": "execute_result"
    }
   ],
   "source": [
    "datain.describe()"
   ]
  },
  {
   "cell_type": "markdown",
   "metadata": {},
   "source": [
    "** Displaying data **"
   ]
  },
  {
   "cell_type": "markdown",
   "metadata": {
    "run_control": {
     "frozen": false,
     "read_only": false
    }
   },
   "source": [
    "Plot the data on the x1-x2 plane using the categorical variable as color; make sure that the axes labels are readable and that the axes are on the same scale. \n",
    "use the third column as a color category."
   ]
  },
  {
   "cell_type": "code",
   "execution_count": 72,
   "metadata": {
    "ExecuteTime": {
     "end_time": "2018-07-30T15:10:18.948826Z",
     "start_time": "2018-07-30T11:10:18.559566-04:00"
    },
    "run_control": {
     "frozen": false,
     "read_only": false
    }
   },
   "outputs": [
    {
     "data": {
      "image/png": "[encoded data removed]",
      "text/plain": [
       "<matplotlib.figure.Figure at 0x7f65950f6e48>"
      ]
     },
     "metadata": {},
     "output_type": "display_data"
    }
   ],
   "source": [
    "plt.scatter(datain['x1'], \n",
    "            datain['x2'],\n",
    "            c=datain['color'])\n",
    "plt.xlabel('x1', fontsize=28)\n",
    "plt.ylabel('x2', fontsize=28)\n",
    "plt.axis('scaled')\n",
    "plt.show()"
   ]
  },
  {
   "cell_type": "markdown",
   "metadata": {},
   "source": [
    "** Modeling **"
   ]
  },
  {
   "cell_type": "markdown",
   "metadata": {
    "ExecuteTime": {
     "end_time": "2018-07-30T14:58:00.772704Z",
     "start_time": "2018-07-30T10:58:00.498004-04:00"
    },
    "run_control": {
     "frozen": false,
     "read_only": false
    }
   },
   "source": [
    "Now that your data is read in properly,\n",
    "Initiate a logistic regression object with the x1, x2, and y variables for modeling, setting C = 10,000 to disable regularization"
   ]
  },
  {
   "cell_type": "code",
   "execution_count": 74,
   "metadata": {
    "run_control": {
     "frozen": false,
     "read_only": false
    }
   },
   "outputs": [],
   "source": [
    "lr = LogisticRegression(C=10000)"
   ]
  },
  {
   "cell_type": "code",
   "execution_count": 76,
   "metadata": {},
   "outputs": [],
   "source": [
    "X_train, X_test, y_train, y_test = train_test_split(datain[['x1', 'x2']], datain['y'],\n",
    "                                                    test_size=0.33)"
   ]
  },
  {
   "cell_type": "markdown",
   "metadata": {
    "run_control": {
     "frozen": false,
     "read_only": false
    }
   },
   "source": [
    "Run logistic regression on the training set"
   ]
  },
  {
   "cell_type": "code",
   "execution_count": 78,
   "metadata": {
    "run_control": {
     "frozen": false,
     "read_only": false
    }
   },
   "outputs": [
    {
     "data": {
      "text/plain": [
       "LogisticRegression(C=10000, class_weight=None, dual=False, fit_intercept=True,\n",
       "          intercept_scaling=1, max_iter=100, multi_class='ovr', n_jobs=1,\n",
       "          penalty='l2', random_state=None, solver='liblinear', tol=0.0001,\n",
       "          verbose=0, warm_start=False)"
      ]
     },
     "execution_count": 78,
     "metadata": {},
     "output_type": "execute_result"
    }
   ],
   "source": [
    "lr.fit(X_train, y_train)"
   ]
  },
  {
   "cell_type": "markdown",
   "metadata": {
    "run_control": {
     "frozen": false,
     "read_only": false
    }
   },
   "source": [
    "Print out the fitted parameters (including the intercept)"
   ]
  },
  {
   "cell_type": "code",
   "execution_count": 85,
   "metadata": {
    "run_control": {
     "frozen": false,
     "read_only": false
    }
   },
   "outputs": [
    {
     "name": "stdout",
     "output_type": "stream",
     "text": [
      "Coefficients of the features in the decision function: [ 0.8093732  -0.78819039]\n",
      "Intercept (bias) added to the decision function: 0.08797869045164612\n"
     ]
    }
   ],
   "source": [
    "print(\"Coefficients of the features in the decision function: {}\".format(lr.coef_[0]))\n",
    "print(\"Intercept (bias) added to the decision function: {}\".format(lr.intercept_[0]))"
   ]
  },
  {
   "cell_type": "markdown",
   "metadata": {
    "run_control": {
     "frozen": false,
     "read_only": false
    }
   },
   "source": [
    "Use these parameters to predict on the test set"
   ]
  },
  {
   "cell_type": "code",
   "execution_count": 88,
   "metadata": {
    "run_control": {
     "frozen": false,
     "read_only": false
    }
   },
   "outputs": [],
   "source": [
    "y_test_pred = lr.predict(X_test)"
   ]
  },
  {
   "cell_type": "markdown",
   "metadata": {},
   "source": [
    "** Displaying and interpreting the result **"
   ]
  },
  {
   "cell_type": "markdown",
   "metadata": {
    "run_control": {
     "frozen": false,
     "read_only": false
    }
   },
   "source": [
    "Draw two plots, first one showing your prediction, second one for the actual labels, with decision boundary in both"
   ]
  },
  {
   "cell_type": "code",
   "execution_count": 114,
   "metadata": {},
   "outputs": [
    {
     "data": {
      "image/png": "[encoded data removed]",
      "text/plain": [
       "<matplotlib.figure.Figure at 0x7f6580a5dcf8>"
      ]
     },
     "metadata": {},
     "output_type": "display_data"
    }
   ],
   "source": [
    "x1_min, x1_max = datain['x1'].min() - 1, datain['x1'].max() + 1\n",
    "x2_min, x2_max = datain['x2'].min() - 1, datain['x2'].max() + 1\n",
    "xx, yy = np.meshgrid(np.arange(x1_min, x1_max, .02),\n",
    "                     np.arange(x2_min, x2_max, .02))\n",
    "\n",
    "Z = lr.predict(np.c_[xx.ravel(), yy.ravel()])\n",
    "\n",
    "Z = Z.reshape(xx.shape)\n",
    "\n",
    "plt.contourf(xx, yy, Z, cmap=plt.cm.Paired)\n",
    "\n",
    "plt.scatter(X_test['x1'],\n",
    "            X_test['x2'],\n",
    "            color=np.where(y_test_pred == 1.0, 'yellow', 'green'))\n",
    "plt.title('Prediction Plot', fontsize=28)\n",
    "plt.xlabel('x1', fontsize=28)\n",
    "plt.ylabel('x2', fontsize=28)\n",
    "plt.show()"
   ]
  },
  {
   "cell_type": "code",
   "execution_count": 115,
   "metadata": {},
   "outputs": [
    {
     "data": {
      "image/png": "[encoded data removed]",
      "text/plain": [
       "<matplotlib.figure.Figure at 0x7f6580a4bcf8>"
      ]
     },
     "metadata": {},
     "output_type": "display_data"
    }
   ],
   "source": [
    "x1_min, x1_max = datain['x1'].min() - 1, datain['x1'].max() + 1\n",
    "x2_min, x2_max = datain['x2'].min() - 1, datain['x2'].max() + 1\n",
    "xx, yy = np.meshgrid(np.arange(x1_min, x1_max, .02),\n",
    "                     np.arange(x2_min, x2_max, .02))\n",
    "\n",
    "Z = lr.predict(np.c_[xx.ravel(), yy.ravel()])\n",
    "\n",
    "Z = Z.reshape(xx.shape)\n",
    "\n",
    "plt.contourf(xx, yy, Z, cmap=plt.cm.Paired)\n",
    "\n",
    "plt.scatter(X_test['x1'],\n",
    "            X_test['x2'],\n",
    "            color=np.where(y_test == 1.0, 'yellow', 'green'))\n",
    "plt.title('Test Set Plot', fontsize=28)\n",
    "plt.xlabel('x1', fontsize=28)\n",
    "plt.ylabel('x2', fontsize=28)\n",
    "plt.show()"
   ]
  },
  {
   "cell_type": "markdown",
   "metadata": {
    "run_control": {
     "frozen": false,
     "read_only": false
    }
   },
   "source": [
    "Calculate and display visually the confusion matrix to evaluate the model's performance, print out accuracy, recall and precision. Comment on your result"
   ]
  },
  {
   "cell_type": "code",
   "execution_count": 136,
   "metadata": {
    "run_control": {
     "frozen": false,
     "read_only": false
    }
   },
   "outputs": [
    {
     "data": {
      "image/png": "[encoded data removed]",
      "text/plain": [
       "<matplotlib.figure.Figure at 0x7f65804971d0>"
      ]
     },
     "metadata": {},
     "output_type": "display_data"
    },
    {
     "name": "stdout",
     "output_type": "stream",
     "text": [
      "Predicted with 92.31% mean accuracy\n",
      "Precision: 93.75%\n",
      "Recall: 90.9090909090909%\n"
     ]
    }
   ],
   "source": [
    "def plot_confusion_matrix(cm, classes,\n",
    "                          title='Confusion matrix',\n",
    "                          cmap=plt.cm.Blues):\n",
    "\n",
    "    plt.imshow(cm, interpolation='nearest', cmap=cmap)\n",
    "    plt.title(title)\n",
    "    plt.colorbar()\n",
    "    tick_marks = np.arange(len(classes))\n",
    "    plt.xticks(tick_marks, classes, rotation=45)\n",
    "    plt.yticks(tick_marks, classes)\n",
    "\n",
    "    fmt = 'd'\n",
    "    thresh = cm.max() / 2.\n",
    "    for i, j in itertools.product(range(cm.shape[0]), range(cm.shape[1])):\n",
    "        plt.text(j, i, format(cm[i, j], fmt),\n",
    "                 horizontalalignment=\"center\",\n",
    "                 color=\"white\" if cm[i, j] > thresh else \"black\")\n",
    "\n",
    "    plt.tight_layout()\n",
    "    plt.ylabel('True label')\n",
    "    plt.xlabel('Predicted label')\n",
    "\n",
    "cfm = confusion_matrix(y_test, y_test_pred)\n",
    "\n",
    "plt.figure()\n",
    "plot_confusion_matrix(cfm, \n",
    "                      classes=['green', 'yellow'],\n",
    "                      title='Color Pred. Confusion matrix')\n",
    "plt.show()\n",
    "\n",
    "print(\"Predicted with {0:.2f}% mean accuracy\".format(lr.score(X_test, y_test)*100))\n",
    "\n",
    "precision = precision_score(y_test, y_test_pred)\n",
    "print(f\"Precision: {precision * 100}%\")\n",
    "\n",
    "recall = recall_score(y_test, y_test_pred)\n",
    "print(f\"Recall: {recall * 100}%\")"
   ]
  },
  {
   "cell_type": "code",
   "execution_count": 147,
   "metadata": {},
   "outputs": [],
   "source": [
    "# The model does a decent job of predicting the colors.\n",
    "# The precision score shows that when we predict green, we are right 93.75% of the time\n",
    "# The recall score show that when we predict green 90.91% of the time"
   ]
  },
  {
   "cell_type": "markdown",
   "metadata": {},
   "source": [
    "Run a linear regression on the data and comment on which model is \"best\" and why."
   ]
  },
  {
   "cell_type": "code",
   "execution_count": 126,
   "metadata": {},
   "outputs": [],
   "source": [
    "# Without having yet running a linear regression on the data, we can already tell that\n",
    "# we will not get optimal results being that what we are trying to predict is a binary outcome."
   ]
  },
  {
   "cell_type": "code",
   "execution_count": 139,
   "metadata": {},
   "outputs": [],
   "source": [
    "linreg = LinearRegression()"
   ]
  },
  {
   "cell_type": "code",
   "execution_count": 140,
   "metadata": {},
   "outputs": [
    {
     "data": {
      "text/plain": [
       "LinearRegression(copy_X=True, fit_intercept=True, n_jobs=1, normalize=False)"
      ]
     },
     "execution_count": 140,
     "metadata": {},
     "output_type": "execute_result"
    }
   ],
   "source": [
    "linreg.fit(X_train, y_train)"
   ]
  },
  {
   "cell_type": "code",
   "execution_count": 141,
   "metadata": {},
   "outputs": [],
   "source": [
    "y_test_pred_linreg = linreg.predict(X_test)"
   ]
  },
  {
   "cell_type": "code",
   "execution_count": 142,
   "metadata": {},
   "outputs": [
    {
     "data": {
      "text/plain": [
       "array([ 0.64095918,  0.26279806,  1.03333184,  0.12212216,  0.47734404,\n",
       "        0.89595258,  0.25011185,  0.25185485, -0.0520028 ,  0.14336961,\n",
       "       -0.17395337,  0.72627717,  0.83121621,  0.66617667,  1.28371896,\n",
       "        0.89567805,  0.31391377,  0.29009101,  0.61840478, -0.10203927,\n",
       "        0.72449808,  0.69639831,  1.19742933,  0.1911533 ,  1.0286336 ,\n",
       "        0.15776663,  1.08593421, -0.28069671,  0.78119534,  0.41532107,\n",
       "       -0.15152414,  0.10947746,  0.75224035,  0.42128993,  0.21109918,\n",
       "        0.30709608,  0.93157869,  0.7456181 ,  0.70716946, -0.05623219,\n",
       "        0.43493234,  0.6990275 ,  0.43066018,  0.11469919,  0.99561145,\n",
       "        0.72103616,  0.6579292 , -0.02940057,  1.20243678,  1.08744479,\n",
       "        0.10989793,  0.2199995 ,  0.54238547,  0.86363805,  0.97682006,\n",
       "        0.43428137,  0.42179462,  0.46566411,  0.98524408,  0.11081145,\n",
       "        0.02129726,  0.21995871,  0.99096973,  0.97171754,  1.08671642])"
      ]
     },
     "execution_count": 142,
     "metadata": {},
     "output_type": "execute_result"
    }
   ],
   "source": [
    "y_test_pred_linreg"
   ]
  },
  {
   "cell_type": "code",
   "execution_count": 143,
   "metadata": {},
   "outputs": [],
   "source": [
    "# Notice that we don't get actionable predictions with the results of linear regression\n",
    "# These numbers aren't all exactly on a probability space so we can't massage the data that way"
   ]
  },
  {
   "cell_type": "code",
   "execution_count": 144,
   "metadata": {},
   "outputs": [],
   "source": [
    "# Logistic regression best fits the problem we were trying to tackle with this assessment\n",
    "# because the action variable y is binary. This means that we want to classify\n",
    "# whether the point should be one or the other. We are not looking for a numeric output."
   ]
  },
  {
   "cell_type": "code",
   "execution_count": null,
   "metadata": {},
   "outputs": [],
   "source": []
  }
 ],
 "metadata": {
  "kernelspec": {
   "display_name": "Python 3",
   "language": "python",
   "name": "python3"
  },
  "language_info": {
   "codemirror_mode": {
    "name": "ipython",
    "version": 3
   },
   "file_extension": ".py",
   "mimetype": "text/x-python",
   "name": "python",
   "nbconvert_exporter": "python",
   "pygments_lexer": "ipython3",
   "version": "3.6.4"
  },
  "toc": {
   "colors": {
    "hover_highlight": "#DAA520",
    "running_highlight": "#FF0000",
    "selected_highlight": "#FFD700"
   },
   "moveMenuLeft": true,
   "nav_menu": {
    "height": "11px",
    "width": "252px"
   },
   "navigate_menu": true,
   "number_sections": true,
   "sideBar": true,
   "threshold": 4,
   "toc_cell": false,
   "toc_section_display": "block",
   "toc_window_display": false
  }
 },
 "nbformat": 4,
 "nbformat_minor": 2
}
